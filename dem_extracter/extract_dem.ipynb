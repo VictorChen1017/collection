{
 "cells": [
  {
   "cell_type": "code",
   "execution_count": 1,
   "metadata": {},
   "outputs": [],
   "source": [
    "\n",
    "# 使用base環境抓到安裝的套件\n",
    "import sys\n",
    "from osgeo import gdal\n",
    "import pandas as pd\n",
    "\n",
    "# input \n",
    "pathdem = r\"C:\\Users\\USER\\Documents\\vscode\\python\\dem_extracter\\test_data\\Dali_2m_H.tif\"\n",
    "pts = pd.read_csv(r\"C:\\Users\\USER\\Documents\\vscode\\python\\dem_extracter\\test_data\\test_data.csv\")\n",
    "x_coords = pts['x'].tolist()\n",
    "y_coords = pts['y'].tolist()\n"
   ]
  },
  {
   "cell_type": "code",
   "execution_count": 3,
   "metadata": {},
   "outputs": [],
   "source": [
    "# this allows GDAL to throw Python Exceptions\n",
    "# src_ds can give basic info of the raster data such as origin,width\n",
    "\n",
    "gdal.UseExceptions()\n",
    "try:\n",
    "    src_ds = gdal.Open(pathdem)\n",
    "except RuntimeError as e:\n",
    "    print('Unable to open INPUT.tif')\n",
    "    print(e)\n",
    "    sys.exit(1)\n",
    "\n",
    "try:\n",
    "    band = src_ds.GetRasterBand(1)\n",
    "except RuntimeError as e:\n",
    "    # for example, try GetRasterBand(10)\n",
    "    print(e)\n",
    "    sys.exit(1)"
   ]
  },
  {
   "cell_type": "code",
   "execution_count": 13,
   "metadata": {},
   "outputs": [],
   "source": [
    "\n",
    "geotransform = src_ds.GetGeoTransform() \n",
    "# format (296110.0, 20.0, 0.0, 2789170.0, 0.0, -20.0) top left x, pixel size , rotation,  top left y, pixel size , rotation\n",
    "band = src_ds.GetRasterBand(1)\n",
    "xOrigin = geotransform[0]\n",
    "yOrigin = geotransform[3]\n",
    "pixelWidth = geotransform[1]\n",
    "pixelHeight = geotransform[5]\n",
    "elev = [] # storage elevation result"
   ]
  },
  {
   "cell_type": "code",
   "execution_count": 21,
   "metadata": {},
   "outputs": [
    {
     "name": "stdout",
     "output_type": "stream",
     "text": [
      "[482.705, 132.804, 159.95001]\n"
     ]
    }
   ],
   "source": [
    "for i in range(len(x_coords)): # number of data\n",
    "    x = x_coords[i]\n",
    "    y = y_coords[i]\n",
    "    # compute pixel offset\n",
    "    xOffset = int((x - xOrigin) / pixelWidth)\n",
    "    yOffset = int((y - yOrigin) / pixelHeight)\n",
    "    # get individual pixel values\n",
    "    data = band.ReadAsArray(xOffset, yOffset, 1, 1)\n",
    "    value = data[0, 0]\n",
    "    elev.append(value)\n",
    "\n",
    "print(elev)"
   ]
  }
 ],
 "metadata": {
  "kernelspec": {
   "display_name": "DroneLog",
   "language": "python",
   "name": "python3"
  },
  "language_info": {
   "codemirror_mode": {
    "name": "ipython",
    "version": 3
   },
   "file_extension": ".py",
   "mimetype": "text/x-python",
   "name": "python",
   "nbconvert_exporter": "python",
   "pygments_lexer": "ipython3",
   "version": "3.11.4"
  }
 },
 "nbformat": 4,
 "nbformat_minor": 2
}
