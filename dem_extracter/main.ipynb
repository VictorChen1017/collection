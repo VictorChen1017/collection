{
 "cells": [
  {
   "cell_type": "code",
   "execution_count": 8,
   "metadata": {},
   "outputs": [],
   "source": [
    "# main script\n",
    "\n",
    "'''\n",
    "this is the project for correcting hight from lichi mission\n",
    "\n",
    "'''\n",
    "\n",
    "\n",
    "import argparse\n",
    "import subprocess\n",
    "import pandas as pd\n",
    "\n",
    "\n"
   ]
  },
  {
   "cell_type": "code",
   "execution_count": 18,
   "metadata": {},
   "outputs": [],
   "source": [
    "def main():\n",
    "\n",
    "    # 命列列部分\n",
    "    ## 整個程式主要的I/O\n",
    "    '''\n",
    "   \n",
    "    parser = argparse.ArgumentParser(description=\"Main script to revice flight mission.\")\n",
    "    parser.add_argument('dem_file', type=str, help=\"Path to the DEM file\")\n",
    "    parser.add_argument('csv_file', type=str, help=\"Path to the input CSV file\")\n",
    "    parser.add_argument('output_file', type=str, help=\"Path to save the modified CSV file\")\n",
    "\n",
    "    args = parser.parse_args()\n",
    "    '''\n",
    "\n",
    "    # 資料前處理\n",
    "    ## 將csv的座標提取成x_coord, y_coord\n",
    "    '''\n",
    "    pts = pd.read_csv(args.csv_file)\n",
    "    outpath = args.output_file\n",
    "\n",
    "    '''\n",
    "\n",
    "    \n",
    "    dem = r\"C:\\Users\\USER\\Documents\\GitHub\\collection\\dem_extracter\\test_data\\Dali_2m_H.tif\"\n",
    "    csvpath = r\"C:\\Users\\USER\\Documents\\GitHub\\collection\\dem_extracter\\test_data\\test_data.csv\"\n",
    "    \n",
    "\n",
    "    # 調用 extract_dem.py\n",
    "    ## 通過 subprocess 調用 extract_dem.py 並傳遞參數\n",
    "    #pts['elev'] = subprocess.run(['python', 'extract_dem.py', args.dem_file, x_coords , y_coords])\n",
    "    subprocess.run(['python', 'extract_dem.py', dem,csvpath])\n",
    "    # 調用其他程式、語言\n",
    "    \n",
    "\n",
    "\n",
    "if __name__ == \"__main__\":\n",
    "    main()\n"
   ]
  },
  {
   "cell_type": "code",
   "execution_count": 47,
   "metadata": {},
   "outputs": [
    {
     "name": "stdout",
     "output_type": "stream",
     "text": [
      "Output saved to C:\\Users\\USER\\Documents\\GitHub\\collection\\dem_extracter\\test_data\\answer_data.csv\n"
     ]
    }
   ],
   "source": [
    "dem = r\"C:\\Users\\USER\\Documents\\GitHub\\collection\\dem_extracter\\test_data\\Dali_2m_H.tif\"\n",
    "csvpath = r\"C:\\Users\\USER\\Documents\\GitHub\\collection\\dem_extracter\\test_data\\test_data.csv\"\n",
    "\n",
    "from extract_dem import extractElevation, convertToTerrain, csv_to_list\n",
    "\n",
    "# read csv\n",
    "x_coords,y_coords,elev,orignal_dem = csv_to_list(csvpath)\n",
    "\n",
    "\n",
    "## return x_coords,y_coords,elev,orignal_dem\n",
    "\n",
    "extracted_dem = extractElevation(dem,x_coords,y_coords)\n",
    "\n",
    "# return a list of extracted_dem\n",
    "\n",
    "new_elev = convertToTerrain(elev,orignal_dem,extracted_dem)\n",
    "#return a list of revised elev\n",
    "\n",
    "data = list(zip(x_coords, y_coords, elev, orignal_dem))\n",
    "answer_df = pd.DataFrame(data, columns=['x_coords', 'y_coords', 'elev', 'orignal_dem'])\n",
    "\n",
    "\n",
    "answer_df['elev'] = new_elev\n",
    "answer_df['extracted_dem'] = extracted_dem \n",
    "output_path = 'C:\\\\Users\\\\USER\\\\Documents\\\\GitHub\\\\collection\\\\dem_extracter\\\\test_data\\\\answer_data.csv'\n",
    "answer_df .to_csv(output_path, index=False)\n",
    "print(f\"Output saved to {output_path}\")\n"
   ]
  },
  {
   "cell_type": "code",
   "execution_count": 55,
   "metadata": {},
   "outputs": [
    {
     "name": "stderr",
     "output_type": "stream",
     "text": [
      "usage: ipykernel_launcher.py [-h] dem_file csv_path\n",
      "ipykernel_launcher.py: error: the following arguments are required: dem_file, csv_path\n"
     ]
    },
    {
     "ename": "SystemExit",
     "evalue": "2",
     "output_type": "error",
     "traceback": [
      "An exception has occurred, use %tb to see the full traceback.\n",
      "\u001b[1;31mSystemExit\u001b[0m\u001b[1;31m:\u001b[0m 2\n"
     ]
    },
    {
     "name": "stderr",
     "output_type": "stream",
     "text": [
      "c:\\Users\\USER\\anaconda3\\Lib\\site-packages\\IPython\\core\\interactiveshell.py:3513: UserWarning: To exit: use 'exit', 'quit', or Ctrl-D.\n",
      "  warn(\"To exit: use 'exit', 'quit', or Ctrl-D.\", stacklevel=1)\n"
     ]
    }
   ],
   "source": [
    "from extract_dem import main\n",
    "main()\n"
   ]
  }
 ],
 "metadata": {
  "kernelspec": {
   "display_name": "base",
   "language": "python",
   "name": "python3"
  },
  "language_info": {
   "codemirror_mode": {
    "name": "ipython",
    "version": 3
   },
   "file_extension": ".py",
   "mimetype": "text/x-python",
   "name": "python",
   "nbconvert_exporter": "python",
   "pygments_lexer": "ipython3",
   "version": "3.11.4"
  }
 },
 "nbformat": 4,
 "nbformat_minor": 2
}
