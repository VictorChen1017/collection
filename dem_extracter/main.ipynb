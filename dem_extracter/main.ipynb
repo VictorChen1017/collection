{
 "cells": [
  {
   "cell_type": "code",
   "execution_count": 5,
   "metadata": {},
   "outputs": [],
   "source": [
    "# main script\n",
    "\n",
    "'''\n",
    "this is the project for correcting hight from lichi mission\n",
    "\n",
    "'''\n",
    "\n",
    "\n",
    "import argparse\n",
    "import subprocess\n",
    "import pandas as pd\n"
   ]
  },
  {
   "cell_type": "code",
   "execution_count": 17,
   "metadata": {},
   "outputs": [],
   "source": [
    "def main():\n",
    "\n",
    "    # 命列列部分\n",
    "    ## 整個程式主要的I/O\n",
    "    '''\n",
    "   \n",
    "    parser = argparse.ArgumentParser(description=\"Main script to revice flight mission.\")\n",
    "    parser.add_argument('dem_file', type=str, help=\"Path to the DEM file\")\n",
    "    parser.add_argument('csv_file', type=str, help=\"Path to the input CSV file\")\n",
    "    parser.add_argument('output_file', type=str, help=\"Path to save the modified CSV file\")\n",
    "\n",
    "    args = parser.parse_args()\n",
    "    '''\n",
    "\n",
    "    # 資料前處理\n",
    "    ## 將csv的座標提取成x_coord, y_coord\n",
    "    '''\n",
    "    pts = pd.read_csv(args.csv_file)\n",
    "    outpath = args.output_file\n",
    "\n",
    "    '''\n",
    "\n",
    "    \n",
    "    dem = r\"C:\\Users\\USER\\Documents\\GitHub\\collection\\dem_extracter\\test_data\\Dali_2m_H.tif\"\n",
    "    csvpath = r\"C:\\Users\\USER\\Documents\\GitHub\\collection\\dem_extracter\\test_data\\test_data.csv\"\n",
    "    \n",
    "\n",
    "    # 調用 extract_dem.py\n",
    "    ## 通過 subprocess 調用 extract_dem.py 並傳遞參數\n",
    "    #pts['elev'] = subprocess.run(['python', 'extract_dem.py', args.dem_file, x_coords , y_coords])\n",
    "    subprocess.run(['python', 'extract_dem.py', dem,csvpath])\n",
    "    \n",
    "\n",
    "\n",
    "if __name__ == \"__main__\":\n",
    "    main()\n"
   ]
  }
 ],
 "metadata": {
  "kernelspec": {
   "display_name": "base",
   "language": "python",
   "name": "python3"
  },
  "language_info": {
   "codemirror_mode": {
    "name": "ipython",
    "version": 3
   },
   "file_extension": ".py",
   "mimetype": "text/x-python",
   "name": "python",
   "nbconvert_exporter": "python",
   "pygments_lexer": "ipython3",
   "version": "3.11.4"
  }
 },
 "nbformat": 4,
 "nbformat_minor": 2
}
